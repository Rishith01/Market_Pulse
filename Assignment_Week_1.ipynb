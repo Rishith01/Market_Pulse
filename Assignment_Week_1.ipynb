{
 "cells": [
  {
   "cell_type": "code",
   "execution_count": 9,
   "id": "8c0fc73c-d0e9-4b74-9287-36441a992452",
   "metadata": {},
   "outputs": [],
   "source": [
    "import pandas as pd\n",
    "movies = pd.read_csv(\"movies.csv\")\n",
    "IMDB = pd.read_csv(\"IMDB Dataset.csv\")"
   ]
  },
  {
   "cell_type": "code",
   "execution_count": 10,
   "id": "2b600cad-6a74-4bd1-a3e1-ae85e2480e83",
   "metadata": {},
   "outputs": [
    {
     "name": "stdout",
     "output_type": "stream",
     "text": [
      "Requirement already satisfied: textblob in c:\\users\\rishi\\python\\python3119\\lib\\site-packages (0.18.0.post0)\n",
      "Requirement already satisfied: nltk>=3.8 in c:\\users\\rishi\\python\\python3119\\lib\\site-packages (from textblob) (3.9.1)\n",
      "Requirement already satisfied: click in c:\\users\\rishi\\python\\python3119\\lib\\site-packages (from nltk>=3.8->textblob) (8.1.7)\n",
      "Requirement already satisfied: joblib in c:\\users\\rishi\\python\\python3119\\lib\\site-packages (from nltk>=3.8->textblob) (1.4.2)\n",
      "Requirement already satisfied: regex>=2021.8.3 in c:\\users\\rishi\\python\\python3119\\lib\\site-packages (from nltk>=3.8->textblob) (2024.5.15)\n",
      "Requirement already satisfied: tqdm in c:\\users\\rishi\\python\\python3119\\lib\\site-packages (from nltk>=3.8->textblob) (4.66.4)\n",
      "Requirement already satisfied: colorama in c:\\users\\rishi\\python\\python3119\\lib\\site-packages (from click->nltk>=3.8->textblob) (0.4.6)\n",
      "Requirement already satisfied: nltk in c:\\users\\rishi\\python\\python3119\\lib\\site-packages (3.9.1)\n",
      "Requirement already satisfied: click in c:\\users\\rishi\\python\\python3119\\lib\\site-packages (from nltk) (8.1.7)\n",
      "Requirement already satisfied: joblib in c:\\users\\rishi\\python\\python3119\\lib\\site-packages (from nltk) (1.4.2)\n",
      "Requirement already satisfied: regex>=2021.8.3 in c:\\users\\rishi\\python\\python3119\\lib\\site-packages (from nltk) (2024.5.15)\n",
      "Requirement already satisfied: tqdm in c:\\users\\rishi\\python\\python3119\\lib\\site-packages (from nltk) (4.66.4)\n",
      "Requirement already satisfied: colorama in c:\\users\\rishi\\python\\python3119\\lib\\site-packages (from click->nltk) (0.4.6)\n",
      "Requirement already satisfied: spacy in c:\\users\\rishi\\python\\python3119\\lib\\site-packages (3.8.3)\n",
      "Requirement already satisfied: spacy-legacy<3.1.0,>=3.0.11 in c:\\users\\rishi\\python\\python3119\\lib\\site-packages (from spacy) (3.0.12)\n",
      "Requirement already satisfied: spacy-loggers<2.0.0,>=1.0.0 in c:\\users\\rishi\\python\\python3119\\lib\\site-packages (from spacy) (1.0.5)\n",
      "Requirement already satisfied: murmurhash<1.1.0,>=0.28.0 in c:\\users\\rishi\\python\\python3119\\lib\\site-packages (from spacy) (1.0.11)\n",
      "Requirement already satisfied: cymem<2.1.0,>=2.0.2 in c:\\users\\rishi\\python\\python3119\\lib\\site-packages (from spacy) (2.0.10)\n",
      "Requirement already satisfied: preshed<3.1.0,>=3.0.2 in c:\\users\\rishi\\python\\python3119\\lib\\site-packages (from spacy) (3.0.9)\n",
      "Requirement already satisfied: thinc<8.4.0,>=8.3.0 in c:\\users\\rishi\\python\\python3119\\lib\\site-packages (from spacy) (8.3.3)\n",
      "Requirement already satisfied: wasabi<1.2.0,>=0.9.1 in c:\\users\\rishi\\python\\python3119\\lib\\site-packages (from spacy) (1.1.3)\n",
      "Requirement already satisfied: srsly<3.0.0,>=2.4.3 in c:\\users\\rishi\\python\\python3119\\lib\\site-packages (from spacy) (2.5.0)\n",
      "Requirement already satisfied: catalogue<2.1.0,>=2.0.6 in c:\\users\\rishi\\python\\python3119\\lib\\site-packages (from spacy) (2.0.10)\n",
      "Requirement already satisfied: weasel<0.5.0,>=0.1.0 in c:\\users\\rishi\\python\\python3119\\lib\\site-packages (from spacy) (0.4.1)\n",
      "Requirement already satisfied: typer<1.0.0,>=0.3.0 in c:\\users\\rishi\\python\\python3119\\lib\\site-packages (from spacy) (0.15.1)\n",
      "Requirement already satisfied: tqdm<5.0.0,>=4.38.0 in c:\\users\\rishi\\python\\python3119\\lib\\site-packages (from spacy) (4.66.4)\n",
      "Requirement already satisfied: numpy>=1.19.0 in c:\\users\\rishi\\python\\python3119\\lib\\site-packages (from spacy) (1.26.4)\n",
      "Requirement already satisfied: requests<3.0.0,>=2.13.0 in c:\\users\\rishi\\python\\python3119\\lib\\site-packages (from spacy) (2.32.3)\n",
      "Requirement already satisfied: pydantic!=1.8,!=1.8.1,<3.0.0,>=1.7.4 in c:\\users\\rishi\\python\\python3119\\lib\\site-packages (from spacy) (2.10.4)\n",
      "Requirement already satisfied: jinja2 in c:\\users\\rishi\\python\\python3119\\lib\\site-packages (from spacy) (3.1.4)\n",
      "Requirement already satisfied: setuptools in c:\\users\\rishi\\python\\python3119\\lib\\site-packages (from spacy) (65.5.0)\n",
      "Requirement already satisfied: packaging>=20.0 in c:\\users\\rishi\\python\\python3119\\lib\\site-packages (from spacy) (24.1)\n",
      "Requirement already satisfied: langcodes<4.0.0,>=3.2.0 in c:\\users\\rishi\\python\\python3119\\lib\\site-packages (from spacy) (3.5.0)\n",
      "Requirement already satisfied: language-data>=1.2 in c:\\users\\rishi\\python\\python3119\\lib\\site-packages (from langcodes<4.0.0,>=3.2.0->spacy) (1.3.0)\n",
      "Requirement already satisfied: annotated-types>=0.6.0 in c:\\users\\rishi\\python\\python3119\\lib\\site-packages (from pydantic!=1.8,!=1.8.1,<3.0.0,>=1.7.4->spacy) (0.7.0)\n",
      "Requirement already satisfied: pydantic-core==2.27.2 in c:\\users\\rishi\\python\\python3119\\lib\\site-packages (from pydantic!=1.8,!=1.8.1,<3.0.0,>=1.7.4->spacy) (2.27.2)\n",
      "Requirement already satisfied: typing-extensions>=4.12.2 in c:\\users\\rishi\\python\\python3119\\lib\\site-packages (from pydantic!=1.8,!=1.8.1,<3.0.0,>=1.7.4->spacy) (4.12.2)\n",
      "Requirement already satisfied: charset-normalizer<4,>=2 in c:\\users\\rishi\\python\\python3119\\lib\\site-packages (from requests<3.0.0,>=2.13.0->spacy) (3.3.2)\n",
      "Requirement already satisfied: idna<4,>=2.5 in c:\\users\\rishi\\python\\python3119\\lib\\site-packages (from requests<3.0.0,>=2.13.0->spacy) (3.7)\n",
      "Requirement already satisfied: urllib3<3,>=1.21.1 in c:\\users\\rishi\\python\\python3119\\lib\\site-packages (from requests<3.0.0,>=2.13.0->spacy) (2.2.2)\n",
      "Requirement already satisfied: certifi>=2017.4.17 in c:\\users\\rishi\\python\\python3119\\lib\\site-packages (from requests<3.0.0,>=2.13.0->spacy) (2024.6.2)\n",
      "Requirement already satisfied: blis<1.2.0,>=1.1.0 in c:\\users\\rishi\\python\\python3119\\lib\\site-packages (from thinc<8.4.0,>=8.3.0->spacy) (1.1.0)\n",
      "Requirement already satisfied: confection<1.0.0,>=0.0.1 in c:\\users\\rishi\\python\\python3119\\lib\\site-packages (from thinc<8.4.0,>=8.3.0->spacy) (0.1.5)\n",
      "Requirement already satisfied: colorama in c:\\users\\rishi\\python\\python3119\\lib\\site-packages (from tqdm<5.0.0,>=4.38.0->spacy) (0.4.6)\n",
      "Requirement already satisfied: click>=8.0.0 in c:\\users\\rishi\\python\\python3119\\lib\\site-packages (from typer<1.0.0,>=0.3.0->spacy) (8.1.7)\n",
      "Requirement already satisfied: shellingham>=1.3.0 in c:\\users\\rishi\\python\\python3119\\lib\\site-packages (from typer<1.0.0,>=0.3.0->spacy) (1.5.4)\n",
      "Requirement already satisfied: rich>=10.11.0 in c:\\users\\rishi\\python\\python3119\\lib\\site-packages (from typer<1.0.0,>=0.3.0->spacy) (13.7.1)\n",
      "Requirement already satisfied: cloudpathlib<1.0.0,>=0.7.0 in c:\\users\\rishi\\python\\python3119\\lib\\site-packages (from weasel<0.5.0,>=0.1.0->spacy) (0.20.0)\n",
      "Requirement already satisfied: smart-open<8.0.0,>=5.2.1 in c:\\users\\rishi\\python\\python3119\\lib\\site-packages (from weasel<0.5.0,>=0.1.0->spacy) (7.1.0)\n",
      "Requirement already satisfied: MarkupSafe>=2.0 in c:\\users\\rishi\\python\\python3119\\lib\\site-packages (from jinja2->spacy) (2.1.5)\n",
      "Requirement already satisfied: marisa-trie>=1.1.0 in c:\\users\\rishi\\python\\python3119\\lib\\site-packages (from language-data>=1.2->langcodes<4.0.0,>=3.2.0->spacy) (1.2.1)\n",
      "Requirement already satisfied: markdown-it-py>=2.2.0 in c:\\users\\rishi\\python\\python3119\\lib\\site-packages (from rich>=10.11.0->typer<1.0.0,>=0.3.0->spacy) (3.0.0)\n",
      "Requirement already satisfied: pygments<3.0.0,>=2.13.0 in c:\\users\\rishi\\python\\python3119\\lib\\site-packages (from rich>=10.11.0->typer<1.0.0,>=0.3.0->spacy) (2.18.0)\n",
      "Requirement already satisfied: wrapt in c:\\users\\rishi\\python\\python3119\\lib\\site-packages (from smart-open<8.0.0,>=5.2.1->weasel<0.5.0,>=0.1.0->spacy) (1.16.0)\n",
      "Requirement already satisfied: mdurl~=0.1 in c:\\users\\rishi\\python\\python3119\\lib\\site-packages (from markdown-it-py>=2.2.0->rich>=10.11.0->typer<1.0.0,>=0.3.0->spacy) (0.1.2)\n"
     ]
    }
   ],
   "source": [
    "!pip install textblob\n",
    "!pip install nltk\n",
    "!pip install spacy"
   ]
  },
  {
   "cell_type": "code",
   "execution_count": 11,
   "id": "c55b6849-54b8-481e-8796-0d2f17cf2fe7",
   "metadata": {},
   "outputs": [],
   "source": [
    "import nltk\n",
    "import textblob"
   ]
  },
  {
   "cell_type": "markdown",
   "id": "88e2a767-a70e-4432-b967-b21cbef02e85",
   "metadata": {},
   "source": [
    "# Part 1: Data Cleaning with Pandas"
   ]
  },
  {
   "cell_type": "code",
   "execution_count": 12,
   "id": "7f08a21a-f181-4f3c-bc89-4b96debb85d2",
   "metadata": {},
   "outputs": [
    {
     "data": {
      "text/html": [
       "<div>\n",
       "<style scoped>\n",
       "    .dataframe tbody tr th:only-of-type {\n",
       "        vertical-align: middle;\n",
       "    }\n",
       "\n",
       "    .dataframe tbody tr th {\n",
       "        vertical-align: top;\n",
       "    }\n",
       "\n",
       "    .dataframe thead th {\n",
       "        text-align: right;\n",
       "    }\n",
       "</style>\n",
       "<table border=\"1\" class=\"dataframe\">\n",
       "  <thead>\n",
       "    <tr style=\"text-align: right;\">\n",
       "      <th></th>\n",
       "      <th>MOVIES</th>\n",
       "      <th>YEAR</th>\n",
       "      <th>GENRE</th>\n",
       "      <th>RATING</th>\n",
       "      <th>ONE-LINE</th>\n",
       "      <th>STARS</th>\n",
       "      <th>VOTES</th>\n",
       "      <th>RunTime</th>\n",
       "    </tr>\n",
       "  </thead>\n",
       "  <tbody>\n",
       "    <tr>\n",
       "      <th>0</th>\n",
       "      <td>Blood Red Sky</td>\n",
       "      <td>(2021)</td>\n",
       "      <td>\\nAction, Horror, Thriller</td>\n",
       "      <td>6.1</td>\n",
       "      <td>\\nA woman with a mysterious illness is forced ...</td>\n",
       "      <td>\\n    Director:\\nPeter Thorwarth\\n| \\n    Star...</td>\n",
       "      <td>21,062</td>\n",
       "      <td>121.0</td>\n",
       "    </tr>\n",
       "    <tr>\n",
       "      <th>1</th>\n",
       "      <td>Masters of the Universe: Revelation</td>\n",
       "      <td>(2021– )</td>\n",
       "      <td>\\nAnimation, Action, Adventure</td>\n",
       "      <td>5.0</td>\n",
       "      <td>\\nThe war for Eternia begins again in what may...</td>\n",
       "      <td>\\n            \\n    Stars:\\nChris Wood, \\nSara...</td>\n",
       "      <td>17,870</td>\n",
       "      <td>25.0</td>\n",
       "    </tr>\n",
       "    <tr>\n",
       "      <th>2</th>\n",
       "      <td>The Walking Dead</td>\n",
       "      <td>(2010–2022)</td>\n",
       "      <td>\\nDrama, Horror, Thriller</td>\n",
       "      <td>8.2</td>\n",
       "      <td>\\nSheriff Deputy Rick Grimes wakes up from a c...</td>\n",
       "      <td>\\n            \\n    Stars:\\nAndrew Lincoln, \\n...</td>\n",
       "      <td>885,805</td>\n",
       "      <td>44.0</td>\n",
       "    </tr>\n",
       "    <tr>\n",
       "      <th>3</th>\n",
       "      <td>Rick and Morty</td>\n",
       "      <td>(2013– )</td>\n",
       "      <td>\\nAnimation, Adventure, Comedy</td>\n",
       "      <td>9.2</td>\n",
       "      <td>\\nAn animated series that follows the exploits...</td>\n",
       "      <td>\\n            \\n    Stars:\\nJustin Roiland, \\n...</td>\n",
       "      <td>414,849</td>\n",
       "      <td>23.0</td>\n",
       "    </tr>\n",
       "    <tr>\n",
       "      <th>4</th>\n",
       "      <td>Army of Thieves</td>\n",
       "      <td>(2021)</td>\n",
       "      <td>\\nAction, Crime, Horror</td>\n",
       "      <td>NaN</td>\n",
       "      <td>\\nA prequel, set before the events of Army of ...</td>\n",
       "      <td>\\n    Director:\\nMatthias Schweighöfer\\n| \\n  ...</td>\n",
       "      <td>NaN</td>\n",
       "      <td>NaN</td>\n",
       "    </tr>\n",
       "  </tbody>\n",
       "</table>\n",
       "</div>"
      ],
      "text/plain": [
       "                                MOVIES         YEAR  \\\n",
       "0                        Blood Red Sky       (2021)   \n",
       "1  Masters of the Universe: Revelation     (2021– )   \n",
       "2                     The Walking Dead  (2010–2022)   \n",
       "3                       Rick and Morty     (2013– )   \n",
       "4                      Army of Thieves       (2021)   \n",
       "\n",
       "                                        GENRE  RATING  \\\n",
       "0      \\nAction, Horror, Thriller                 6.1   \n",
       "1  \\nAnimation, Action, Adventure                 5.0   \n",
       "2       \\nDrama, Horror, Thriller                 8.2   \n",
       "3  \\nAnimation, Adventure, Comedy                 9.2   \n",
       "4         \\nAction, Crime, Horror                 NaN   \n",
       "\n",
       "                                            ONE-LINE  \\\n",
       "0  \\nA woman with a mysterious illness is forced ...   \n",
       "1  \\nThe war for Eternia begins again in what may...   \n",
       "2  \\nSheriff Deputy Rick Grimes wakes up from a c...   \n",
       "3  \\nAn animated series that follows the exploits...   \n",
       "4  \\nA prequel, set before the events of Army of ...   \n",
       "\n",
       "                                               STARS    VOTES  RunTime  \n",
       "0  \\n    Director:\\nPeter Thorwarth\\n| \\n    Star...   21,062    121.0  \n",
       "1  \\n            \\n    Stars:\\nChris Wood, \\nSara...   17,870     25.0  \n",
       "2  \\n            \\n    Stars:\\nAndrew Lincoln, \\n...  885,805     44.0  \n",
       "3  \\n            \\n    Stars:\\nJustin Roiland, \\n...  414,849     23.0  \n",
       "4  \\n    Director:\\nMatthias Schweighöfer\\n| \\n  ...      NaN      NaN  "
      ]
     },
     "execution_count": 12,
     "metadata": {},
     "output_type": "execute_result"
    }
   ],
   "source": [
    "movies = movies.iloc[:, :8]\n",
    "movies.head()\n"
   ]
  },
  {
   "cell_type": "code",
   "execution_count": 13,
   "id": "fa889208-78d3-4992-a89a-e9898b07c926",
   "metadata": {},
   "outputs": [
    {
     "data": {
      "text/plain": [
       "MOVIES      9999\n",
       "YEAR        9355\n",
       "GENRE       9919\n",
       "RATING      8179\n",
       "ONE-LINE    9999\n",
       "STARS       9999\n",
       "VOTES       8179\n",
       "RunTime     7041\n",
       "dtype: int64"
      ]
     },
     "execution_count": 13,
     "metadata": {},
     "output_type": "execute_result"
    }
   ],
   "source": [
    "movies.count()"
   ]
  },
  {
   "cell_type": "markdown",
   "id": "425f6317-e291-4b43-8bfc-85b7bda18cb4",
   "metadata": {},
   "source": [
    "### As part of cleaning data, I have done dropping of rows which will not be useful due to missing entries and dropped duplicate rows if any. "
   ]
  },
  {
   "cell_type": "code",
   "execution_count": 14,
   "id": "87b64536-df7b-4805-ad20-4e84d3314fde",
   "metadata": {},
   "outputs": [
    {
     "data": {
      "text/html": [
       "<div>\n",
       "<style scoped>\n",
       "    .dataframe tbody tr th:only-of-type {\n",
       "        vertical-align: middle;\n",
       "    }\n",
       "\n",
       "    .dataframe tbody tr th {\n",
       "        vertical-align: top;\n",
       "    }\n",
       "\n",
       "    .dataframe thead th {\n",
       "        text-align: right;\n",
       "    }\n",
       "</style>\n",
       "<table border=\"1\" class=\"dataframe\">\n",
       "  <thead>\n",
       "    <tr style=\"text-align: right;\">\n",
       "      <th></th>\n",
       "      <th>MOVIES</th>\n",
       "      <th>YEAR</th>\n",
       "      <th>GENRE</th>\n",
       "      <th>RATING</th>\n",
       "      <th>ONE-LINE</th>\n",
       "      <th>STARS</th>\n",
       "      <th>VOTES</th>\n",
       "      <th>RunTime</th>\n",
       "    </tr>\n",
       "  </thead>\n",
       "  <tbody>\n",
       "    <tr>\n",
       "      <th>0</th>\n",
       "      <td>Blood Red Sky</td>\n",
       "      <td>(2021)</td>\n",
       "      <td>\\nAction, Horror, Thriller</td>\n",
       "      <td>6.1</td>\n",
       "      <td>\\nA woman with a mysterious illness is forced ...</td>\n",
       "      <td>\\n    Director:\\nPeter Thorwarth\\n| \\n    Star...</td>\n",
       "      <td>21,062</td>\n",
       "      <td>121.0</td>\n",
       "    </tr>\n",
       "    <tr>\n",
       "      <th>1</th>\n",
       "      <td>Masters of the Universe: Revelation</td>\n",
       "      <td>(2021– )</td>\n",
       "      <td>\\nAnimation, Action, Adventure</td>\n",
       "      <td>5.0</td>\n",
       "      <td>\\nThe war for Eternia begins again in what may...</td>\n",
       "      <td>\\n            \\n    Stars:\\nChris Wood, \\nSara...</td>\n",
       "      <td>17,870</td>\n",
       "      <td>25.0</td>\n",
       "    </tr>\n",
       "    <tr>\n",
       "      <th>2</th>\n",
       "      <td>The Walking Dead</td>\n",
       "      <td>(2010–2022)</td>\n",
       "      <td>\\nDrama, Horror, Thriller</td>\n",
       "      <td>8.2</td>\n",
       "      <td>\\nSheriff Deputy Rick Grimes wakes up from a c...</td>\n",
       "      <td>\\n            \\n    Stars:\\nAndrew Lincoln, \\n...</td>\n",
       "      <td>885,805</td>\n",
       "      <td>44.0</td>\n",
       "    </tr>\n",
       "    <tr>\n",
       "      <th>3</th>\n",
       "      <td>Rick and Morty</td>\n",
       "      <td>(2013– )</td>\n",
       "      <td>\\nAnimation, Adventure, Comedy</td>\n",
       "      <td>9.2</td>\n",
       "      <td>\\nAn animated series that follows the exploits...</td>\n",
       "      <td>\\n            \\n    Stars:\\nJustin Roiland, \\n...</td>\n",
       "      <td>414,849</td>\n",
       "      <td>23.0</td>\n",
       "    </tr>\n",
       "    <tr>\n",
       "      <th>5</th>\n",
       "      <td>Outer Banks</td>\n",
       "      <td>(2020– )</td>\n",
       "      <td>\\nAction, Crime, Drama</td>\n",
       "      <td>7.6</td>\n",
       "      <td>\\nA group of teenagers from the wrong side of ...</td>\n",
       "      <td>\\n            \\n    Stars:\\nChase Stokes, \\nMa...</td>\n",
       "      <td>25,858</td>\n",
       "      <td>50.0</td>\n",
       "    </tr>\n",
       "  </tbody>\n",
       "</table>\n",
       "</div>"
      ],
      "text/plain": [
       "                                MOVIES         YEAR  \\\n",
       "0                        Blood Red Sky       (2021)   \n",
       "1  Masters of the Universe: Revelation     (2021– )   \n",
       "2                     The Walking Dead  (2010–2022)   \n",
       "3                       Rick and Morty     (2013– )   \n",
       "5                          Outer Banks     (2020– )   \n",
       "\n",
       "                                        GENRE  RATING  \\\n",
       "0      \\nAction, Horror, Thriller                 6.1   \n",
       "1  \\nAnimation, Action, Adventure                 5.0   \n",
       "2       \\nDrama, Horror, Thriller                 8.2   \n",
       "3  \\nAnimation, Adventure, Comedy                 9.2   \n",
       "5          \\nAction, Crime, Drama                 7.6   \n",
       "\n",
       "                                            ONE-LINE  \\\n",
       "0  \\nA woman with a mysterious illness is forced ...   \n",
       "1  \\nThe war for Eternia begins again in what may...   \n",
       "2  \\nSheriff Deputy Rick Grimes wakes up from a c...   \n",
       "3  \\nAn animated series that follows the exploits...   \n",
       "5  \\nA group of teenagers from the wrong side of ...   \n",
       "\n",
       "                                               STARS    VOTES  RunTime  \n",
       "0  \\n    Director:\\nPeter Thorwarth\\n| \\n    Star...   21,062    121.0  \n",
       "1  \\n            \\n    Stars:\\nChris Wood, \\nSara...   17,870     25.0  \n",
       "2  \\n            \\n    Stars:\\nAndrew Lincoln, \\n...  885,805     44.0  \n",
       "3  \\n            \\n    Stars:\\nJustin Roiland, \\n...  414,849     23.0  \n",
       "5  \\n            \\n    Stars:\\nChase Stokes, \\nMa...   25,858     50.0  "
      ]
     },
     "execution_count": 14,
     "metadata": {},
     "output_type": "execute_result"
    }
   ],
   "source": [
    "movies = movies.dropna()\n",
    "movies = movies.drop_duplicates()\n",
    "movies.head()"
   ]
  },
  {
   "cell_type": "code",
   "execution_count": 15,
   "id": "9ffd14c3-3c12-48d8-9bac-2d95b8da1f4a",
   "metadata": {},
   "outputs": [
    {
     "data": {
      "text/plain": [
       "MOVIES      6779\n",
       "YEAR        6779\n",
       "GENRE       6779\n",
       "RATING      6779\n",
       "ONE-LINE    6779\n",
       "STARS       6779\n",
       "VOTES       6779\n",
       "RunTime     6779\n",
       "dtype: int64"
      ]
     },
     "execution_count": 15,
     "metadata": {},
     "output_type": "execute_result"
    }
   ],
   "source": [
    "movies.count()"
   ]
  },
  {
   "cell_type": "markdown",
   "id": "e2fb5896-ab08-408f-990a-c8213a0db5d0",
   "metadata": {},
   "source": [
    "### Some columns had some special character '\\n' which is not useful during analysis. So I removed them from the required columns"
   ]
  },
  {
   "cell_type": "code",
   "execution_count": 16,
   "id": "203dcb8a-29fe-4510-9e48-11e149217e81",
   "metadata": {},
   "outputs": [],
   "source": [
    "columns_to_clean = ['GENRE', 'ONE-LINE', 'STARS']\n",
    "\n",
    "def clean_column_values(df, columns):\n",
    "    for col in columns:\n",
    "        df[col] = df[col].str.replace(r'\\n', '', regex=True).str.strip()\n",
    "    return df\n",
    "\n",
    "movies = clean_column_values(movies, columns_to_clean)\n",
    "movies.head()\n",
    "\n",
    "movies.to_csv(\"Updated_movies.csv\", index = False)"
   ]
  },
  {
   "cell_type": "markdown",
   "id": "e763afbd-96ad-4464-a05c-0fe013c8d505",
   "metadata": {},
   "source": [
    "# Part 2: Sentimental Analysis"
   ]
  },
  {
   "cell_type": "code",
   "execution_count": 17,
   "id": "91f11886-04bc-4b4c-8c17-575ce92018fb",
   "metadata": {},
   "outputs": [],
   "source": [
    "import textblob"
   ]
  },
  {
   "cell_type": "code",
   "execution_count": 18,
   "id": "f401ba5d-ef7f-4541-b446-7884ad75cbec",
   "metadata": {},
   "outputs": [
    {
     "data": {
      "text/html": [
       "<div>\n",
       "<style scoped>\n",
       "    .dataframe tbody tr th:only-of-type {\n",
       "        vertical-align: middle;\n",
       "    }\n",
       "\n",
       "    .dataframe tbody tr th {\n",
       "        vertical-align: top;\n",
       "    }\n",
       "\n",
       "    .dataframe thead th {\n",
       "        text-align: right;\n",
       "    }\n",
       "</style>\n",
       "<table border=\"1\" class=\"dataframe\">\n",
       "  <thead>\n",
       "    <tr style=\"text-align: right;\">\n",
       "      <th></th>\n",
       "      <th>review</th>\n",
       "      <th>sentiment</th>\n",
       "    </tr>\n",
       "  </thead>\n",
       "  <tbody>\n",
       "    <tr>\n",
       "      <th>0</th>\n",
       "      <td>One of the other reviewers has mentioned that ...</td>\n",
       "      <td>positive</td>\n",
       "    </tr>\n",
       "    <tr>\n",
       "      <th>1</th>\n",
       "      <td>A wonderful little production. &lt;br /&gt;&lt;br /&gt;The...</td>\n",
       "      <td>positive</td>\n",
       "    </tr>\n",
       "    <tr>\n",
       "      <th>2</th>\n",
       "      <td>I thought this was a wonderful way to spend ti...</td>\n",
       "      <td>positive</td>\n",
       "    </tr>\n",
       "    <tr>\n",
       "      <th>3</th>\n",
       "      <td>Basically there's a family where a little boy ...</td>\n",
       "      <td>negative</td>\n",
       "    </tr>\n",
       "    <tr>\n",
       "      <th>4</th>\n",
       "      <td>Petter Mattei's \"Love in the Time of Money\" is...</td>\n",
       "      <td>positive</td>\n",
       "    </tr>\n",
       "  </tbody>\n",
       "</table>\n",
       "</div>"
      ],
      "text/plain": [
       "                                              review sentiment\n",
       "0  One of the other reviewers has mentioned that ...  positive\n",
       "1  A wonderful little production. <br /><br />The...  positive\n",
       "2  I thought this was a wonderful way to spend ti...  positive\n",
       "3  Basically there's a family where a little boy ...  negative\n",
       "4  Petter Mattei's \"Love in the Time of Money\" is...  positive"
      ]
     },
     "execution_count": 18,
     "metadata": {},
     "output_type": "execute_result"
    }
   ],
   "source": [
    "IMDB.head()"
   ]
  },
  {
   "cell_type": "code",
   "execution_count": 19,
   "id": "d83498c5-3be6-44aa-9387-f12e2eb83490",
   "metadata": {},
   "outputs": [],
   "source": [
    "# The label was added just to make it look like I followed the video\n",
    "IMDB['Label'] = IMDB['sentiment'].apply(lambda x: 1 if x == 'positive'else -1)"
   ]
  },
  {
   "cell_type": "code",
   "execution_count": 20,
   "id": "9f8f2a5b-ed10-440e-ba75-82f816340773",
   "metadata": {},
   "outputs": [
    {
     "name": "stdout",
     "output_type": "stream",
     "text": [
      "<class 'pandas.core.frame.DataFrame'>\n",
      "RangeIndex: 50000 entries, 0 to 49999\n",
      "Data columns (total 3 columns):\n",
      " #   Column     Non-Null Count  Dtype \n",
      "---  ------     --------------  ----- \n",
      " 0   review     50000 non-null  object\n",
      " 1   sentiment  50000 non-null  object\n",
      " 2   Label      50000 non-null  int64 \n",
      "dtypes: int64(1), object(2)\n",
      "memory usage: 1.1+ MB\n"
     ]
    }
   ],
   "source": [
    "IMDB.head()\n",
    "IMDB.info()"
   ]
  },
  {
   "cell_type": "code",
   "execution_count": 21,
   "id": "4ac04995-b0b4-4cb9-8495-5eb1233f9dc1",
   "metadata": {},
   "outputs": [],
   "source": [
    "import pandas as pd\n",
    "from textblob import TextBlob\n",
    "from nltk.tokenize.toktok import ToktokTokenizer\n",
    "import re\n",
    "tokenizer = ToktokTokenizer()\n",
    "import spacy\n",
    "nlp = spacy.load('en_core_web_sm', disable = ['ner'])"
   ]
  },
  {
   "cell_type": "markdown",
   "id": "3e9e1414-e69e-4378-9d4f-6fae3ee3fe58",
   "metadata": {},
   "source": [
    "## Preparation of the dataset we want to work on"
   ]
  },
  {
   "cell_type": "code",
   "execution_count": 22,
   "id": "c006c708-c105-436e-b9ba-1844a0221951",
   "metadata": {},
   "outputs": [],
   "source": [
    "label_pos = IMDB[IMDB['Label'] == 1].sample(n = 10000)\n",
    "label_neg = IMDB[IMDB['Label'] == -1].sample(n = 10000)\n",
    "train = pd.concat([label_pos, label_neg])\n",
    "from sklearn.utils import shuffle\n",
    "train = shuffle(train)"
   ]
  },
  {
   "cell_type": "code",
   "execution_count": 23,
   "id": "db057936-273d-4c60-bfd5-efee9a2c9def",
   "metadata": {},
   "outputs": [
    {
     "data": {
      "text/html": [
       "<div>\n",
       "<style scoped>\n",
       "    .dataframe tbody tr th:only-of-type {\n",
       "        vertical-align: middle;\n",
       "    }\n",
       "\n",
       "    .dataframe tbody tr th {\n",
       "        vertical-align: top;\n",
       "    }\n",
       "\n",
       "    .dataframe thead th {\n",
       "        text-align: right;\n",
       "    }\n",
       "</style>\n",
       "<table border=\"1\" class=\"dataframe\">\n",
       "  <thead>\n",
       "    <tr style=\"text-align: right;\">\n",
       "      <th></th>\n",
       "      <th>review</th>\n",
       "      <th>sentiment</th>\n",
       "      <th>Label</th>\n",
       "    </tr>\n",
       "  </thead>\n",
       "  <tbody>\n",
       "    <tr>\n",
       "      <th>35730</th>\n",
       "      <td>Great actors, an oscar nominee actress, stunni...</td>\n",
       "      <td>positive</td>\n",
       "      <td>1</td>\n",
       "    </tr>\n",
       "    <tr>\n",
       "      <th>25028</th>\n",
       "      <td>I'm a sucker for mob/gangland movies, so I ren...</td>\n",
       "      <td>negative</td>\n",
       "      <td>-1</td>\n",
       "    </tr>\n",
       "    <tr>\n",
       "      <th>35010</th>\n",
       "      <td>Chris Smith's American Movie is an insightful ...</td>\n",
       "      <td>positive</td>\n",
       "      <td>1</td>\n",
       "    </tr>\n",
       "    <tr>\n",
       "      <th>10250</th>\n",
       "      <td>80's comedies (especially ones with John Cusak...</td>\n",
       "      <td>positive</td>\n",
       "      <td>1</td>\n",
       "    </tr>\n",
       "    <tr>\n",
       "      <th>13326</th>\n",
       "      <td>I first saw this movie on MST3K. And although ...</td>\n",
       "      <td>negative</td>\n",
       "      <td>-1</td>\n",
       "    </tr>\n",
       "    <tr>\n",
       "      <th>...</th>\n",
       "      <td>...</td>\n",
       "      <td>...</td>\n",
       "      <td>...</td>\n",
       "    </tr>\n",
       "    <tr>\n",
       "      <th>8378</th>\n",
       "      <td>To some of us, director Ernst Lubitsch, adored...</td>\n",
       "      <td>negative</td>\n",
       "      <td>-1</td>\n",
       "    </tr>\n",
       "    <tr>\n",
       "      <th>15564</th>\n",
       "      <td>It's really just terrible. Quaid overacts more...</td>\n",
       "      <td>negative</td>\n",
       "      <td>-1</td>\n",
       "    </tr>\n",
       "    <tr>\n",
       "      <th>38789</th>\n",
       "      <td>The violent and rebel twenty-five years old sa...</td>\n",
       "      <td>positive</td>\n",
       "      <td>1</td>\n",
       "    </tr>\n",
       "    <tr>\n",
       "      <th>3480</th>\n",
       "      <td>As one who frequently goes to the movies, I ha...</td>\n",
       "      <td>positive</td>\n",
       "      <td>1</td>\n",
       "    </tr>\n",
       "    <tr>\n",
       "      <th>22804</th>\n",
       "      <td>I just saw this movie last night at a midnight...</td>\n",
       "      <td>negative</td>\n",
       "      <td>-1</td>\n",
       "    </tr>\n",
       "  </tbody>\n",
       "</table>\n",
       "<p>20000 rows × 3 columns</p>\n",
       "</div>"
      ],
      "text/plain": [
       "                                                  review sentiment  Label\n",
       "35730  Great actors, an oscar nominee actress, stunni...  positive      1\n",
       "25028  I'm a sucker for mob/gangland movies, so I ren...  negative     -1\n",
       "35010  Chris Smith's American Movie is an insightful ...  positive      1\n",
       "10250  80's comedies (especially ones with John Cusak...  positive      1\n",
       "13326  I first saw this movie on MST3K. And although ...  negative     -1\n",
       "...                                                  ...       ...    ...\n",
       "8378   To some of us, director Ernst Lubitsch, adored...  negative     -1\n",
       "15564  It's really just terrible. Quaid overacts more...  negative     -1\n",
       "38789  The violent and rebel twenty-five years old sa...  positive      1\n",
       "3480   As one who frequently goes to the movies, I ha...  positive      1\n",
       "22804  I just saw this movie last night at a midnight...  negative     -1\n",
       "\n",
       "[20000 rows x 3 columns]"
      ]
     },
     "execution_count": 23,
     "metadata": {},
     "output_type": "execute_result"
    }
   ],
   "source": [
    "train"
   ]
  },
  {
   "cell_type": "code",
   "execution_count": 24,
   "id": "45c06adf-1f50-4939-8c1e-555dbb2c9875",
   "metadata": {},
   "outputs": [
    {
     "data": {
      "text/plain": [
       "review       0\n",
       "sentiment    0\n",
       "Label        0\n",
       "dtype: int64"
      ]
     },
     "execution_count": 24,
     "metadata": {},
     "output_type": "execute_result"
    }
   ],
   "source": [
    "train.isnull().sum()"
   ]
  },
  {
   "cell_type": "code",
   "execution_count": 25,
   "id": "7d6820ec-c921-4298-9b36-1133413fe541",
   "metadata": {},
   "outputs": [],
   "source": [
    "import numpy as np\n",
    "train.replace(r'^\\s*$', np.nan, regex = True, inplace = True)\n",
    "train.dropna(axis = 0, how = 'any', inplace = True)"
   ]
  },
  {
   "cell_type": "code",
   "execution_count": 26,
   "id": "03ec890e-7d8e-4adf-a9f0-4f84e95b38b8",
   "metadata": {},
   "outputs": [
    {
     "name": "stdout",
     "output_type": "stream",
     "text": [
      "Escape Sequences removed\n"
     ]
    }
   ],
   "source": [
    "train.replace(to_replace=[r\"\\\\t|\\\\n|\\\\r\", \"\\t|\\n|\\r\"], value = [\"\",\"\"], regex = True, inplace = True)\n",
    "print(\"Escape Sequences removed\")"
   ]
  },
  {
   "cell_type": "code",
   "execution_count": 27,
   "id": "75e604ad-7926-4315-a739-9ad07720a34e",
   "metadata": {},
   "outputs": [
    {
     "data": {
      "text/html": [
       "<div>\n",
       "<style scoped>\n",
       "    .dataframe tbody tr th:only-of-type {\n",
       "        vertical-align: middle;\n",
       "    }\n",
       "\n",
       "    .dataframe tbody tr th {\n",
       "        vertical-align: top;\n",
       "    }\n",
       "\n",
       "    .dataframe thead th {\n",
       "        text-align: right;\n",
       "    }\n",
       "</style>\n",
       "<table border=\"1\" class=\"dataframe\">\n",
       "  <thead>\n",
       "    <tr style=\"text-align: right;\">\n",
       "      <th></th>\n",
       "      <th>review</th>\n",
       "      <th>sentiment</th>\n",
       "      <th>Label</th>\n",
       "    </tr>\n",
       "  </thead>\n",
       "  <tbody>\n",
       "    <tr>\n",
       "      <th>35730</th>\n",
       "      <td>Great actors, an oscar nominee actress, stunni...</td>\n",
       "      <td>positive</td>\n",
       "      <td>1</td>\n",
       "    </tr>\n",
       "    <tr>\n",
       "      <th>25028</th>\n",
       "      <td>I'm a sucker for mob/gangland movies, so I ren...</td>\n",
       "      <td>negative</td>\n",
       "      <td>-1</td>\n",
       "    </tr>\n",
       "    <tr>\n",
       "      <th>35010</th>\n",
       "      <td>Chris Smith's American Movie is an insightful ...</td>\n",
       "      <td>positive</td>\n",
       "      <td>1</td>\n",
       "    </tr>\n",
       "    <tr>\n",
       "      <th>10250</th>\n",
       "      <td>80's comedies (especially ones with John Cusak...</td>\n",
       "      <td>positive</td>\n",
       "      <td>1</td>\n",
       "    </tr>\n",
       "    <tr>\n",
       "      <th>13326</th>\n",
       "      <td>I first saw this movie on MST3K. And although ...</td>\n",
       "      <td>negative</td>\n",
       "      <td>-1</td>\n",
       "    </tr>\n",
       "    <tr>\n",
       "      <th>...</th>\n",
       "      <td>...</td>\n",
       "      <td>...</td>\n",
       "      <td>...</td>\n",
       "    </tr>\n",
       "    <tr>\n",
       "      <th>8378</th>\n",
       "      <td>To some of us, director Ernst Lubitsch, adored...</td>\n",
       "      <td>negative</td>\n",
       "      <td>-1</td>\n",
       "    </tr>\n",
       "    <tr>\n",
       "      <th>15564</th>\n",
       "      <td>It's really just terrible. Quaid overacts more...</td>\n",
       "      <td>negative</td>\n",
       "      <td>-1</td>\n",
       "    </tr>\n",
       "    <tr>\n",
       "      <th>38789</th>\n",
       "      <td>The violent and rebel twenty-five years old sa...</td>\n",
       "      <td>positive</td>\n",
       "      <td>1</td>\n",
       "    </tr>\n",
       "    <tr>\n",
       "      <th>3480</th>\n",
       "      <td>As one who frequently goes to the movies, I ha...</td>\n",
       "      <td>positive</td>\n",
       "      <td>1</td>\n",
       "    </tr>\n",
       "    <tr>\n",
       "      <th>22804</th>\n",
       "      <td>I just saw this movie last night at a midnight...</td>\n",
       "      <td>negative</td>\n",
       "      <td>-1</td>\n",
       "    </tr>\n",
       "  </tbody>\n",
       "</table>\n",
       "<p>20000 rows × 3 columns</p>\n",
       "</div>"
      ],
      "text/plain": [
       "                                                  review sentiment  Label\n",
       "35730  Great actors, an oscar nominee actress, stunni...  positive      1\n",
       "25028  I'm a sucker for mob/gangland movies, so I ren...  negative     -1\n",
       "35010  Chris Smith's American Movie is an insightful ...  positive      1\n",
       "10250  80's comedies (especially ones with John Cusak...  positive      1\n",
       "13326  I first saw this movie on MST3K. And although ...  negative     -1\n",
       "...                                                  ...       ...    ...\n",
       "8378   To some of us, director Ernst Lubitsch, adored...  negative     -1\n",
       "15564  It's really just terrible. Quaid overacts more...  negative     -1\n",
       "38789  The violent and rebel twenty-five years old sa...  positive      1\n",
       "3480   As one who frequently goes to the movies, I ha...  positive      1\n",
       "22804  I just saw this movie last night at a midnight...  negative     -1\n",
       "\n",
       "[20000 rows x 3 columns]"
      ]
     },
     "execution_count": 27,
     "metadata": {},
     "output_type": "execute_result"
    }
   ],
   "source": [
    "train"
   ]
  },
  {
   "cell_type": "code",
   "execution_count": 28,
   "id": "78c9a34c-7f39-4ed0-af53-32b111542576",
   "metadata": {},
   "outputs": [
    {
     "name": "stdout",
     "output_type": "stream",
     "text": [
      "Non ASCII data removed\n"
     ]
    }
   ],
   "source": [
    "train['review'] = train['review'].str.encode('ascii', 'ignore').str.decode('ascii')\n",
    "print(\"Non ASCII data removed\")"
   ]
  },
  {
   "cell_type": "code",
   "execution_count": 29,
   "id": "be67f3d9-c122-459c-a1bf-062101fec28c",
   "metadata": {},
   "outputs": [],
   "source": [
    "def remove_punctuation(review):\n",
    "    import string\n",
    "    for punctuation in string.punctuation:\n",
    "        review = review.replace(punctuation, '')\n",
    "    return review\n",
    "train['review'] = train['review'].apply(remove_punctuation)"
   ]
  },
  {
   "cell_type": "code",
   "execution_count": 30,
   "id": "a4df4a26-1af9-4f1f-a42e-16beafa5a13c",
   "metadata": {},
   "outputs": [
    {
     "name": "stderr",
     "output_type": "stream",
     "text": [
      "[nltk_data] Downloading package stopwords to\n",
      "[nltk_data]     C:\\Users\\rishi\\AppData\\Roaming\\nltk_data...\n",
      "[nltk_data]   Package stopwords is already up-to-date!\n"
     ]
    },
    {
     "data": {
      "text/plain": [
       "True"
      ]
     },
     "execution_count": 30,
     "metadata": {},
     "output_type": "execute_result"
    }
   ],
   "source": [
    "import nltk\n",
    "nltk.download('stopwords')\n"
   ]
  },
  {
   "cell_type": "code",
   "execution_count": 31,
   "id": "3222ae0b-3087-41ae-b83e-de823f426b57",
   "metadata": {},
   "outputs": [
    {
     "name": "stdout",
     "output_type": "stream",
     "text": [
      "['i', 'me', 'my', 'myself', 'we', 'our', 'ours', 'ourselves', 'you', \"you're\", \"you've\", \"you'll\", \"you'd\", 'your', 'yours', 'yourself', 'yourselves', 'he', 'him', 'his', 'himself', 'she', \"she's\", 'her', 'hers', 'herself', 'it', \"it's\", 'its', 'itself', 'they', 'them', 'their', 'theirs', 'themselves', 'what', 'which', 'who', 'whom', 'this', 'that', \"that'll\", 'these', 'those', 'am', 'is', 'are', 'was', 'were', 'be', 'been', 'being', 'have', 'has', 'had', 'having', 'do', 'does', 'did', 'doing', 'a', 'an', 'the', 'and', 'but', 'if', 'or', 'because', 'as', 'until', 'while', 'of', 'at', 'by', 'for', 'with', 'about', 'against', 'between', 'into', 'through', 'during', 'before', 'after', 'above', 'below', 'to', 'from', 'up', 'down', 'in', 'out', 'on', 'off', 'over', 'under', 'again', 'further', 'then', 'once', 'here', 'there', 'when', 'where', 'why', 'how', 'all', 'any', 'both', 'each', 'few', 'more', 'most', 'other', 'some', 'such', 'no', 'nor', 'not', 'only', 'own', 'same', 'so', 'than', 'too', 'very', 's', 't', 'can', 'will', 'just', 'don', \"don't\", 'should', \"should've\", 'now', 'd', 'll', 'm', 'o', 're', 've', 'y', 'ain', 'aren', \"aren't\", 'couldn', \"couldn't\", 'didn', \"didn't\", 'doesn', \"doesn't\", 'hadn', \"hadn't\", 'hasn', \"hasn't\", 'haven', \"haven't\", 'isn', \"isn't\", 'ma', 'mightn', \"mightn't\", 'mustn', \"mustn't\", 'needn', \"needn't\", 'shan', \"shan't\", 'shouldn', \"shouldn't\", 'wasn', \"wasn't\", 'weren', \"weren't\", 'won', \"won't\", 'wouldn', \"wouldn't\"]\n"
     ]
    }
   ],
   "source": [
    "from nltk.corpus import stopwords\n",
    "print(stopwords.words('english'))"
   ]
  },
  {
   "cell_type": "markdown",
   "id": "c2a0cfd5-57c6-4413-bcb2-5f82d477595b",
   "metadata": {},
   "source": [
    "### To ensure non removal of no and not since they are very important for sentiment analysis. Sentences can have totally opposite connotations otherwise"
   ]
  },
  {
   "cell_type": "code",
   "execution_count": 32,
   "id": "9e5bc149-ab30-464c-ba5a-9bd4ce6087c1",
   "metadata": {},
   "outputs": [],
   "source": [
    "stopwords_list = nltk.corpus.stopwords.words('english')\n",
    "stopwords_list.remove('no')\n",
    "stopwords_list.remove('not')"
   ]
  },
  {
   "cell_type": "markdown",
   "id": "523bf112-0b69-4771-8fc2-74be6890ae9f",
   "metadata": {},
   "source": [
    "### The function is created but not called since the sentiment was always coming 0,0 for all inputs if it was called."
   ]
  },
  {
   "cell_type": "code",
   "execution_count": 33,
   "id": "d2bfc4fe-06c5-4421-a610-dc4584d97bd2",
   "metadata": {},
   "outputs": [],
   "source": [
    "def custom_remove_stopwords(text, is_lower_case = False):\n",
    "    tokens = tokenizer.tokenize(text)\n",
    "    tokens = [token.strip() for token in tokens]\n",
    "    if is_lower_case:\n",
    "        filtered_tokens = [token for token in tokens if token not in stopwords_list]\n",
    "    else:\n",
    "        filtered_tokens = [token for token in tokens if token.lower() not in stopwords_list]\n",
    "    filtered_text = ''.join(filtered_tokens)\n",
    "    return filtered_text"
   ]
  },
  {
   "cell_type": "code",
   "execution_count": 34,
   "id": "91f03031-aa48-4502-9a53-4b3fb6c721a0",
   "metadata": {},
   "outputs": [],
   "source": [
    "# train['review'] = train['review'].apply(custom_remove_stopwords)"
   ]
  },
  {
   "cell_type": "markdown",
   "id": "030fd083-bf0b-433c-8fe8-2f9796505da7",
   "metadata": {},
   "source": [
    "### The following few cells are to remove special characters, alphanumeric or numbers, HTML links or URL which are not relevant for senitment analysis"
   ]
  },
  {
   "cell_type": "code",
   "execution_count": 35,
   "id": "f29c7d19-a84b-473a-a05f-be2d307c962b",
   "metadata": {},
   "outputs": [],
   "source": [
    "def remove_special_characters(text):\n",
    "    text = re.sub('[^a-zA-z0-9\\s]', '', text)\n",
    "    return text"
   ]
  },
  {
   "cell_type": "code",
   "execution_count": 36,
   "id": "7b3e1614-74f8-4b14-8adf-5afcb9913343",
   "metadata": {},
   "outputs": [],
   "source": [
    "train['review'] = train['review'].apply(remove_special_characters)"
   ]
  },
  {
   "cell_type": "code",
   "execution_count": 37,
   "id": "133d4557-c936-4d7e-8ab4-4dd0813d347e",
   "metadata": {},
   "outputs": [],
   "source": [
    "def remove_html(text):\n",
    "    import re\n",
    "    html_pattern = re.compile('<.*?>')\n",
    "    return html_pattern.sub(r' ', text)"
   ]
  },
  {
   "cell_type": "code",
   "execution_count": 38,
   "id": "879d1fdb-8b30-48be-bced-75ab8341beaa",
   "metadata": {},
   "outputs": [],
   "source": [
    "train['review'] = train['review'].apply(remove_html)"
   ]
  },
  {
   "cell_type": "code",
   "execution_count": 39,
   "id": "4876ae43-0839-4838-a0ee-9466b0bd22ce",
   "metadata": {},
   "outputs": [],
   "source": [
    "def remove_URL(text):\n",
    "    url = re.compile(r'https?://\\S+|www\\.\\S+')\n",
    "    return url.sub(r' ', text)"
   ]
  },
  {
   "cell_type": "code",
   "execution_count": 40,
   "id": "8e3e7b1a-5706-4fc9-9d7b-d6627842a7fb",
   "metadata": {},
   "outputs": [],
   "source": [
    "train['review'] = train['review'].apply(remove_URL)"
   ]
  },
  {
   "cell_type": "code",
   "execution_count": 41,
   "id": "c826ad8e-a701-4990-8335-9e51783add24",
   "metadata": {},
   "outputs": [],
   "source": [
    "def remove_numbers(text):\n",
    "    text = ''.join([i for i in text if not i.isdigit()])\n",
    "    return text"
   ]
  },
  {
   "cell_type": "code",
   "execution_count": 42,
   "id": "0551dd67-3089-47b0-b772-0da4c24d4888",
   "metadata": {},
   "outputs": [],
   "source": [
    "train['review'] = train['review'].apply(remove_numbers)"
   ]
  },
  {
   "cell_type": "code",
   "execution_count": 43,
   "id": "5bde4090-3144-4ae7-8647-be0715e8b595",
   "metadata": {},
   "outputs": [],
   "source": [
    "def cleanse(word):\n",
    "    rx = re.compile(r'\\D*\\d')\n",
    "    if rx.match(word):\n",
    "        return ' '\n",
    "    return word\n",
    "\n",
    "def remove_alphanumeric(strings):\n",
    "    nstrings = [\" \".join(filter(None, (\n",
    "                cleanse(word) for word in string.split())))\n",
    "               for string in strings.split()]\n",
    "    str1 = ' '.join(nstrings)\n",
    "    return str1"
   ]
  },
  {
   "cell_type": "code",
   "execution_count": 44,
   "id": "a548719d-7a76-438e-9e67-eb2fadd1ecda",
   "metadata": {},
   "outputs": [],
   "source": [
    "train['review'] = train['review'].apply(remove_alphanumeric)"
   ]
  },
  {
   "cell_type": "code",
   "execution_count": 45,
   "id": "f64cb154-0863-450e-b5c7-f7d249a0c371",
   "metadata": {},
   "outputs": [
    {
     "data": {
      "text/html": [
       "<div>\n",
       "<style scoped>\n",
       "    .dataframe tbody tr th:only-of-type {\n",
       "        vertical-align: middle;\n",
       "    }\n",
       "\n",
       "    .dataframe tbody tr th {\n",
       "        vertical-align: top;\n",
       "    }\n",
       "\n",
       "    .dataframe thead th {\n",
       "        text-align: right;\n",
       "    }\n",
       "</style>\n",
       "<table border=\"1\" class=\"dataframe\">\n",
       "  <thead>\n",
       "    <tr style=\"text-align: right;\">\n",
       "      <th></th>\n",
       "      <th>review</th>\n",
       "      <th>sentiment</th>\n",
       "      <th>Label</th>\n",
       "    </tr>\n",
       "  </thead>\n",
       "  <tbody>\n",
       "    <tr>\n",
       "      <th>35730</th>\n",
       "      <td>Great actors an oscar nominee actress stunning...</td>\n",
       "      <td>positive</td>\n",
       "      <td>1</td>\n",
       "    </tr>\n",
       "    <tr>\n",
       "      <th>25028</th>\n",
       "      <td>Im a sucker for mobgangland movies so I rented...</td>\n",
       "      <td>negative</td>\n",
       "      <td>-1</td>\n",
       "    </tr>\n",
       "    <tr>\n",
       "      <th>35010</th>\n",
       "      <td>Chris Smiths American Movie is an insightful e...</td>\n",
       "      <td>positive</td>\n",
       "      <td>1</td>\n",
       "    </tr>\n",
       "    <tr>\n",
       "      <th>10250</th>\n",
       "      <td>s comedies especially ones with John Cusak are...</td>\n",
       "      <td>positive</td>\n",
       "      <td>1</td>\n",
       "    </tr>\n",
       "    <tr>\n",
       "      <th>13326</th>\n",
       "      <td>I first saw this movie on MSTK And although I ...</td>\n",
       "      <td>negative</td>\n",
       "      <td>-1</td>\n",
       "    </tr>\n",
       "    <tr>\n",
       "      <th>...</th>\n",
       "      <td>...</td>\n",
       "      <td>...</td>\n",
       "      <td>...</td>\n",
       "    </tr>\n",
       "    <tr>\n",
       "      <th>8378</th>\n",
       "      <td>To some of us director Ernst Lubitsch adored f...</td>\n",
       "      <td>negative</td>\n",
       "      <td>-1</td>\n",
       "    </tr>\n",
       "    <tr>\n",
       "      <th>15564</th>\n",
       "      <td>Its really just terrible Quaid overacts more t...</td>\n",
       "      <td>negative</td>\n",
       "      <td>-1</td>\n",
       "    </tr>\n",
       "    <tr>\n",
       "      <th>38789</th>\n",
       "      <td>The violent and rebel twentyfive years old sai...</td>\n",
       "      <td>positive</td>\n",
       "      <td>1</td>\n",
       "    </tr>\n",
       "    <tr>\n",
       "      <th>3480</th>\n",
       "      <td>As one who frequently goes to the movies I hav...</td>\n",
       "      <td>positive</td>\n",
       "      <td>1</td>\n",
       "    </tr>\n",
       "    <tr>\n",
       "      <th>22804</th>\n",
       "      <td>I just saw this movie last night at a midnight...</td>\n",
       "      <td>negative</td>\n",
       "      <td>-1</td>\n",
       "    </tr>\n",
       "  </tbody>\n",
       "</table>\n",
       "<p>20000 rows × 3 columns</p>\n",
       "</div>"
      ],
      "text/plain": [
       "                                                  review sentiment  Label\n",
       "35730  Great actors an oscar nominee actress stunning...  positive      1\n",
       "25028  Im a sucker for mobgangland movies so I rented...  negative     -1\n",
       "35010  Chris Smiths American Movie is an insightful e...  positive      1\n",
       "10250  s comedies especially ones with John Cusak are...  positive      1\n",
       "13326  I first saw this movie on MSTK And although I ...  negative     -1\n",
       "...                                                  ...       ...    ...\n",
       "8378   To some of us director Ernst Lubitsch adored f...  negative     -1\n",
       "15564  Its really just terrible Quaid overacts more t...  negative     -1\n",
       "38789  The violent and rebel twentyfive years old sai...  positive      1\n",
       "3480   As one who frequently goes to the movies I hav...  positive      1\n",
       "22804  I just saw this movie last night at a midnight...  negative     -1\n",
       "\n",
       "[20000 rows x 3 columns]"
      ]
     },
     "execution_count": 45,
     "metadata": {},
     "output_type": "execute_result"
    }
   ],
   "source": [
    "train"
   ]
  },
  {
   "cell_type": "markdown",
   "id": "02e5e452-a6d0-49b0-975a-2f43e70e41f1",
   "metadata": {},
   "source": [
    "### Lemmatization is a general practice of NLP for easier sentiment analysis. This is to reduce the vocabulary size unnecessarily."
   ]
  },
  {
   "cell_type": "code",
   "execution_count": 46,
   "id": "f777bc2b-609f-48fa-bdf6-93c59e545d96",
   "metadata": {},
   "outputs": [],
   "source": [
    "def lemmatize_text(text):\n",
    "    text = nlp(text)\n",
    "    text = ' '.join([word.lemma_ if word.lemma_ != \"-PRON-\" else word.text for word in text])\n",
    "    return text"
   ]
  },
  {
   "cell_type": "code",
   "execution_count": 47,
   "id": "08097d76-678f-44b1-b1d4-4de0f4ae3edc",
   "metadata": {},
   "outputs": [],
   "source": [
    "train['review'] = train['review'].apply(lemmatize_text)"
   ]
  },
  {
   "cell_type": "markdown",
   "id": "85506bb6-7885-4e4b-92c8-34f75ed18a7f",
   "metadata": {},
   "source": [
    "### The Textblob function of sentiment gives 2 values, polarity and subjectivity. So we need to separate them and make separate columns for them. Then based on polarity values, we can choose the sentiment"
   ]
  },
  {
   "cell_type": "code",
   "execution_count": 48,
   "id": "453d3f22-5e56-4a30-a2c1-5da3a116db72",
   "metadata": {},
   "outputs": [],
   "source": [
    "train['Sentiment'] = train['review'].apply(lambda x: TextBlob(x).sentiment)"
   ]
  },
  {
   "cell_type": "code",
   "execution_count": 49,
   "id": "67c6fc93-769d-445c-97fb-c1dd620ee0b5",
   "metadata": {},
   "outputs": [
    {
     "data": {
      "text/html": [
       "<div>\n",
       "<style scoped>\n",
       "    .dataframe tbody tr th:only-of-type {\n",
       "        vertical-align: middle;\n",
       "    }\n",
       "\n",
       "    .dataframe tbody tr th {\n",
       "        vertical-align: top;\n",
       "    }\n",
       "\n",
       "    .dataframe thead th {\n",
       "        text-align: right;\n",
       "    }\n",
       "</style>\n",
       "<table border=\"1\" class=\"dataframe\">\n",
       "  <thead>\n",
       "    <tr style=\"text-align: right;\">\n",
       "      <th></th>\n",
       "      <th>review</th>\n",
       "      <th>sentiment</th>\n",
       "      <th>Label</th>\n",
       "      <th>Sentiment</th>\n",
       "    </tr>\n",
       "  </thead>\n",
       "  <tbody>\n",
       "    <tr>\n",
       "      <th>35730</th>\n",
       "      <td>great actor an oscar nominee actress stunning ...</td>\n",
       "      <td>positive</td>\n",
       "      <td>1</td>\n",
       "      <td>(0.364040404040404, 0.5641161616161616)</td>\n",
       "    </tr>\n",
       "    <tr>\n",
       "      <th>25028</th>\n",
       "      <td>I m a sucker for mobgangland movie so I rent t...</td>\n",
       "      <td>negative</td>\n",
       "      <td>-1</td>\n",
       "      <td>(-0.09285714285714285, 0.46904761904761905)</td>\n",
       "    </tr>\n",
       "    <tr>\n",
       "      <th>35010</th>\n",
       "      <td>Chris Smiths American Movie be an insightful e...</td>\n",
       "      <td>positive</td>\n",
       "      <td>1</td>\n",
       "      <td>(0.2373913043478261, 0.3665942028985507)</td>\n",
       "    </tr>\n",
       "    <tr>\n",
       "      <th>10250</th>\n",
       "      <td>s comedy especially one with John Cusak be awe...</td>\n",
       "      <td>positive</td>\n",
       "      <td>1</td>\n",
       "      <td>(0.060606060606060615, 0.5916666666666667)</td>\n",
       "    </tr>\n",
       "    <tr>\n",
       "      <th>13326</th>\n",
       "      <td>I first see this movie on MSTK and although I ...</td>\n",
       "      <td>negative</td>\n",
       "      <td>-1</td>\n",
       "      <td>(0.08977272727272728, 0.4876262626262626)</td>\n",
       "    </tr>\n",
       "    <tr>\n",
       "      <th>...</th>\n",
       "      <td>...</td>\n",
       "      <td>...</td>\n",
       "      <td>...</td>\n",
       "      <td>...</td>\n",
       "    </tr>\n",
       "    <tr>\n",
       "      <th>8378</th>\n",
       "      <td>to some of us director Ernst Lubitsch adore fo...</td>\n",
       "      <td>negative</td>\n",
       "      <td>-1</td>\n",
       "      <td>(0.08697916666666666, 0.4125)</td>\n",
       "    </tr>\n",
       "    <tr>\n",
       "      <th>15564</th>\n",
       "      <td>its really just terrible Quaid overact more th...</td>\n",
       "      <td>negative</td>\n",
       "      <td>-1</td>\n",
       "      <td>(-0.07444444444444445, 0.5072222222222221)</td>\n",
       "    </tr>\n",
       "    <tr>\n",
       "      <th>38789</th>\n",
       "      <td>the violent and rebel twentyfive year old sail...</td>\n",
       "      <td>positive</td>\n",
       "      <td>1</td>\n",
       "      <td>(0.16023809523809526, 0.5834249084249084)</td>\n",
       "    </tr>\n",
       "    <tr>\n",
       "      <th>3480</th>\n",
       "      <td>as one who frequently go to the movie I have t...</td>\n",
       "      <td>positive</td>\n",
       "      <td>1</td>\n",
       "      <td>(0.32747252747252753, 0.5228021978021977)</td>\n",
       "    </tr>\n",
       "    <tr>\n",
       "      <th>22804</th>\n",
       "      <td>I just see this movie last night at a midnight...</td>\n",
       "      <td>negative</td>\n",
       "      <td>-1</td>\n",
       "      <td>(-0.037665343915343916, 0.5337632275132275)</td>\n",
       "    </tr>\n",
       "  </tbody>\n",
       "</table>\n",
       "<p>20000 rows × 4 columns</p>\n",
       "</div>"
      ],
      "text/plain": [
       "                                                  review sentiment  Label  \\\n",
       "35730  great actor an oscar nominee actress stunning ...  positive      1   \n",
       "25028  I m a sucker for mobgangland movie so I rent t...  negative     -1   \n",
       "35010  Chris Smiths American Movie be an insightful e...  positive      1   \n",
       "10250  s comedy especially one with John Cusak be awe...  positive      1   \n",
       "13326  I first see this movie on MSTK and although I ...  negative     -1   \n",
       "...                                                  ...       ...    ...   \n",
       "8378   to some of us director Ernst Lubitsch adore fo...  negative     -1   \n",
       "15564  its really just terrible Quaid overact more th...  negative     -1   \n",
       "38789  the violent and rebel twentyfive year old sail...  positive      1   \n",
       "3480   as one who frequently go to the movie I have t...  positive      1   \n",
       "22804  I just see this movie last night at a midnight...  negative     -1   \n",
       "\n",
       "                                         Sentiment  \n",
       "35730      (0.364040404040404, 0.5641161616161616)  \n",
       "25028  (-0.09285714285714285, 0.46904761904761905)  \n",
       "35010     (0.2373913043478261, 0.3665942028985507)  \n",
       "10250   (0.060606060606060615, 0.5916666666666667)  \n",
       "13326    (0.08977272727272728, 0.4876262626262626)  \n",
       "...                                            ...  \n",
       "8378                 (0.08697916666666666, 0.4125)  \n",
       "15564   (-0.07444444444444445, 0.5072222222222221)  \n",
       "38789    (0.16023809523809526, 0.5834249084249084)  \n",
       "3480     (0.32747252747252753, 0.5228021978021977)  \n",
       "22804  (-0.037665343915343916, 0.5337632275132275)  \n",
       "\n",
       "[20000 rows x 4 columns]"
      ]
     },
     "execution_count": 49,
     "metadata": {},
     "output_type": "execute_result"
    }
   ],
   "source": [
    "train"
   ]
  },
  {
   "cell_type": "code",
   "execution_count": 50,
   "id": "03e51587-71ea-436e-8bb0-d0af639ada50",
   "metadata": {},
   "outputs": [],
   "source": [
    "sentiment_series = train['Sentiment'].tolist()"
   ]
  },
  {
   "cell_type": "code",
   "execution_count": 51,
   "id": "dffd5a26-98d6-42e6-b9ca-387318f2518f",
   "metadata": {},
   "outputs": [],
   "source": [
    "columns = ['polarity', 'subjectivity']\n",
    "df1 = pd.DataFrame(sentiment_series, columns = columns, index = train.index)"
   ]
  },
  {
   "cell_type": "code",
   "execution_count": 52,
   "id": "0458b48e-9a9a-4aed-85ff-ac1f24c416d4",
   "metadata": {},
   "outputs": [],
   "source": [
    "result = pd.concat([train,df1], axis = 1)"
   ]
  },
  {
   "cell_type": "code",
   "execution_count": 53,
   "id": "2a246a96-49c4-4a73-a82f-1ae2076253bf",
   "metadata": {},
   "outputs": [],
   "source": [
    "result.drop(['Sentiment'], axis = 1, inplace = True)"
   ]
  },
  {
   "cell_type": "code",
   "execution_count": 54,
   "id": "b12ea6d1-8fa2-4275-bfeb-46d385b188e5",
   "metadata": {},
   "outputs": [],
   "source": [
    "result.loc[result['polarity'] >= 0.1, 'Sentiment_feeling'] = 'POSITIVE'\n",
    "result.loc[(result['polarity'] > -0.1) & (result['polarity'] <= 0.1), 'Sentiment_feeling'] = 'NEUTRAL'\n",
    "result.loc[result['polarity'] <= -0.1, 'Sentiment_feeling'] = 'NEGATIVE'"
   ]
  },
  {
   "cell_type": "code",
   "execution_count": 55,
   "id": "06d1ae67-f7da-4440-9532-5a399e3b7afb",
   "metadata": {},
   "outputs": [
    {
     "data": {
      "text/html": [
       "<div>\n",
       "<style scoped>\n",
       "    .dataframe tbody tr th:only-of-type {\n",
       "        vertical-align: middle;\n",
       "    }\n",
       "\n",
       "    .dataframe tbody tr th {\n",
       "        vertical-align: top;\n",
       "    }\n",
       "\n",
       "    .dataframe thead th {\n",
       "        text-align: right;\n",
       "    }\n",
       "</style>\n",
       "<table border=\"1\" class=\"dataframe\">\n",
       "  <thead>\n",
       "    <tr style=\"text-align: right;\">\n",
       "      <th></th>\n",
       "      <th>review</th>\n",
       "      <th>sentiment</th>\n",
       "      <th>Label</th>\n",
       "      <th>polarity</th>\n",
       "      <th>subjectivity</th>\n",
       "      <th>Sentiment_feeling</th>\n",
       "    </tr>\n",
       "  </thead>\n",
       "  <tbody>\n",
       "    <tr>\n",
       "      <th>35730</th>\n",
       "      <td>great actor an oscar nominee actress stunning ...</td>\n",
       "      <td>positive</td>\n",
       "      <td>1</td>\n",
       "      <td>0.364040</td>\n",
       "      <td>0.564116</td>\n",
       "      <td>POSITIVE</td>\n",
       "    </tr>\n",
       "    <tr>\n",
       "      <th>25028</th>\n",
       "      <td>I m a sucker for mobgangland movie so I rent t...</td>\n",
       "      <td>negative</td>\n",
       "      <td>-1</td>\n",
       "      <td>-0.092857</td>\n",
       "      <td>0.469048</td>\n",
       "      <td>NEUTRAL</td>\n",
       "    </tr>\n",
       "    <tr>\n",
       "      <th>35010</th>\n",
       "      <td>Chris Smiths American Movie be an insightful e...</td>\n",
       "      <td>positive</td>\n",
       "      <td>1</td>\n",
       "      <td>0.237391</td>\n",
       "      <td>0.366594</td>\n",
       "      <td>POSITIVE</td>\n",
       "    </tr>\n",
       "    <tr>\n",
       "      <th>10250</th>\n",
       "      <td>s comedy especially one with John Cusak be awe...</td>\n",
       "      <td>positive</td>\n",
       "      <td>1</td>\n",
       "      <td>0.060606</td>\n",
       "      <td>0.591667</td>\n",
       "      <td>NEUTRAL</td>\n",
       "    </tr>\n",
       "    <tr>\n",
       "      <th>13326</th>\n",
       "      <td>I first see this movie on MSTK and although I ...</td>\n",
       "      <td>negative</td>\n",
       "      <td>-1</td>\n",
       "      <td>0.089773</td>\n",
       "      <td>0.487626</td>\n",
       "      <td>NEUTRAL</td>\n",
       "    </tr>\n",
       "    <tr>\n",
       "      <th>4476</th>\n",
       "      <td>its really annoying when good movie like this ...</td>\n",
       "      <td>positive</td>\n",
       "      <td>1</td>\n",
       "      <td>0.250000</td>\n",
       "      <td>0.725000</td>\n",
       "      <td>POSITIVE</td>\n",
       "    </tr>\n",
       "    <tr>\n",
       "      <th>2542</th>\n",
       "      <td>Ted V Mikelss film Corpse Grinders be minute o...</td>\n",
       "      <td>negative</td>\n",
       "      <td>-1</td>\n",
       "      <td>-0.006757</td>\n",
       "      <td>0.584127</td>\n",
       "      <td>NEUTRAL</td>\n",
       "    </tr>\n",
       "    <tr>\n",
       "      <th>32313</th>\n",
       "      <td>I have watch this film from Ralph Bakshi Wizar...</td>\n",
       "      <td>positive</td>\n",
       "      <td>1</td>\n",
       "      <td>0.089389</td>\n",
       "      <td>0.393303</td>\n",
       "      <td>NEUTRAL</td>\n",
       "    </tr>\n",
       "    <tr>\n",
       "      <th>23716</th>\n",
       "      <td>when Northfork debut at the Cannes Film Festiv...</td>\n",
       "      <td>positive</td>\n",
       "      <td>1</td>\n",
       "      <td>0.073387</td>\n",
       "      <td>0.539608</td>\n",
       "      <td>NEUTRAL</td>\n",
       "    </tr>\n",
       "    <tr>\n",
       "      <th>31145</th>\n",
       "      <td>Kathy Ireland the body of a goddess the face o...</td>\n",
       "      <td>negative</td>\n",
       "      <td>-1</td>\n",
       "      <td>0.038847</td>\n",
       "      <td>0.496825</td>\n",
       "      <td>NEUTRAL</td>\n",
       "    </tr>\n",
       "    <tr>\n",
       "      <th>25518</th>\n",
       "      <td>although the video box for many copy of this f...</td>\n",
       "      <td>positive</td>\n",
       "      <td>1</td>\n",
       "      <td>0.096875</td>\n",
       "      <td>0.668750</td>\n",
       "      <td>NEUTRAL</td>\n",
       "    </tr>\n",
       "    <tr>\n",
       "      <th>49476</th>\n",
       "      <td>as an antifootball person I on the surface gru...</td>\n",
       "      <td>positive</td>\n",
       "      <td>1</td>\n",
       "      <td>0.123420</td>\n",
       "      <td>0.534586</td>\n",
       "      <td>POSITIVE</td>\n",
       "    </tr>\n",
       "    <tr>\n",
       "      <th>35369</th>\n",
       "      <td>oh God why I be aghast at the sheer ineptitude...</td>\n",
       "      <td>negative</td>\n",
       "      <td>-1</td>\n",
       "      <td>-0.056250</td>\n",
       "      <td>0.515625</td>\n",
       "      <td>NEUTRAL</td>\n",
       "    </tr>\n",
       "    <tr>\n",
       "      <th>19680</th>\n",
       "      <td>this pointless film be a complete disappointme...</td>\n",
       "      <td>negative</td>\n",
       "      <td>-1</td>\n",
       "      <td>0.007993</td>\n",
       "      <td>0.489116</td>\n",
       "      <td>NEUTRAL</td>\n",
       "    </tr>\n",
       "    <tr>\n",
       "      <th>6639</th>\n",
       "      <td>when I first watch Robotboy I find it fresh an...</td>\n",
       "      <td>negative</td>\n",
       "      <td>-1</td>\n",
       "      <td>0.093939</td>\n",
       "      <td>0.363636</td>\n",
       "      <td>NEUTRAL</td>\n",
       "    </tr>\n",
       "    <tr>\n",
       "      <th>1089</th>\n",
       "      <td>this dreadful film assemble every asian stereo...</td>\n",
       "      <td>negative</td>\n",
       "      <td>-1</td>\n",
       "      <td>-0.161508</td>\n",
       "      <td>0.434127</td>\n",
       "      <td>NEGATIVE</td>\n",
       "    </tr>\n",
       "    <tr>\n",
       "      <th>49962</th>\n",
       "      <td>babette Feast for I be about healing mend the ...</td>\n",
       "      <td>positive</td>\n",
       "      <td>1</td>\n",
       "      <td>0.082576</td>\n",
       "      <td>0.448431</td>\n",
       "      <td>NEUTRAL</td>\n",
       "    </tr>\n",
       "    <tr>\n",
       "      <th>30538</th>\n",
       "      <td>an inspire choice of director for this late Br...</td>\n",
       "      <td>positive</td>\n",
       "      <td>1</td>\n",
       "      <td>0.247222</td>\n",
       "      <td>0.515278</td>\n",
       "      <td>POSITIVE</td>\n",
       "    </tr>\n",
       "    <tr>\n",
       "      <th>24084</th>\n",
       "      <td>a cheap and cheerless heist movie with poor ch...</td>\n",
       "      <td>negative</td>\n",
       "      <td>-1</td>\n",
       "      <td>-0.022360</td>\n",
       "      <td>0.505901</td>\n",
       "      <td>NEUTRAL</td>\n",
       "    </tr>\n",
       "    <tr>\n",
       "      <th>21442</th>\n",
       "      <td>just okay film about a woman who be a twin hav...</td>\n",
       "      <td>negative</td>\n",
       "      <td>-1</td>\n",
       "      <td>0.029337</td>\n",
       "      <td>0.581122</td>\n",
       "      <td>NEUTRAL</td>\n",
       "    </tr>\n",
       "  </tbody>\n",
       "</table>\n",
       "</div>"
      ],
      "text/plain": [
       "                                                  review sentiment  Label  \\\n",
       "35730  great actor an oscar nominee actress stunning ...  positive      1   \n",
       "25028  I m a sucker for mobgangland movie so I rent t...  negative     -1   \n",
       "35010  Chris Smiths American Movie be an insightful e...  positive      1   \n",
       "10250  s comedy especially one with John Cusak be awe...  positive      1   \n",
       "13326  I first see this movie on MSTK and although I ...  negative     -1   \n",
       "4476   its really annoying when good movie like this ...  positive      1   \n",
       "2542   Ted V Mikelss film Corpse Grinders be minute o...  negative     -1   \n",
       "32313  I have watch this film from Ralph Bakshi Wizar...  positive      1   \n",
       "23716  when Northfork debut at the Cannes Film Festiv...  positive      1   \n",
       "31145  Kathy Ireland the body of a goddess the face o...  negative     -1   \n",
       "25518  although the video box for many copy of this f...  positive      1   \n",
       "49476  as an antifootball person I on the surface gru...  positive      1   \n",
       "35369  oh God why I be aghast at the sheer ineptitude...  negative     -1   \n",
       "19680  this pointless film be a complete disappointme...  negative     -1   \n",
       "6639   when I first watch Robotboy I find it fresh an...  negative     -1   \n",
       "1089   this dreadful film assemble every asian stereo...  negative     -1   \n",
       "49962  babette Feast for I be about healing mend the ...  positive      1   \n",
       "30538  an inspire choice of director for this late Br...  positive      1   \n",
       "24084  a cheap and cheerless heist movie with poor ch...  negative     -1   \n",
       "21442  just okay film about a woman who be a twin hav...  negative     -1   \n",
       "\n",
       "       polarity  subjectivity Sentiment_feeling  \n",
       "35730  0.364040      0.564116          POSITIVE  \n",
       "25028 -0.092857      0.469048           NEUTRAL  \n",
       "35010  0.237391      0.366594          POSITIVE  \n",
       "10250  0.060606      0.591667           NEUTRAL  \n",
       "13326  0.089773      0.487626           NEUTRAL  \n",
       "4476   0.250000      0.725000          POSITIVE  \n",
       "2542  -0.006757      0.584127           NEUTRAL  \n",
       "32313  0.089389      0.393303           NEUTRAL  \n",
       "23716  0.073387      0.539608           NEUTRAL  \n",
       "31145  0.038847      0.496825           NEUTRAL  \n",
       "25518  0.096875      0.668750           NEUTRAL  \n",
       "49476  0.123420      0.534586          POSITIVE  \n",
       "35369 -0.056250      0.515625           NEUTRAL  \n",
       "19680  0.007993      0.489116           NEUTRAL  \n",
       "6639   0.093939      0.363636           NEUTRAL  \n",
       "1089  -0.161508      0.434127          NEGATIVE  \n",
       "49962  0.082576      0.448431           NEUTRAL  \n",
       "30538  0.247222      0.515278          POSITIVE  \n",
       "24084 -0.022360      0.505901           NEUTRAL  \n",
       "21442  0.029337      0.581122           NEUTRAL  "
      ]
     },
     "execution_count": 55,
     "metadata": {},
     "output_type": "execute_result"
    }
   ],
   "source": [
    "result.head(20)"
   ]
  },
  {
   "cell_type": "code",
   "execution_count": 56,
   "id": "6a8161bf-5e96-4135-b6a4-ae728d1fdea0",
   "metadata": {},
   "outputs": [],
   "source": [
    "result.loc[result['Label'] == 1, 'Sentiment_label'] = 1\n",
    "result.loc[result['Label'] == 0, 'Sentiment_label'] = 0"
   ]
  },
  {
   "cell_type": "code",
   "execution_count": 57,
   "id": "b50a6547-d90f-404e-a3b1-c8fb24f6e834",
   "metadata": {},
   "outputs": [
    {
     "data": {
      "text/html": [
       "<div>\n",
       "<style scoped>\n",
       "    .dataframe tbody tr th:only-of-type {\n",
       "        vertical-align: middle;\n",
       "    }\n",
       "\n",
       "    .dataframe tbody tr th {\n",
       "        vertical-align: top;\n",
       "    }\n",
       "\n",
       "    .dataframe thead th {\n",
       "        text-align: right;\n",
       "    }\n",
       "</style>\n",
       "<table border=\"1\" class=\"dataframe\">\n",
       "  <thead>\n",
       "    <tr style=\"text-align: right;\">\n",
       "      <th></th>\n",
       "      <th>review</th>\n",
       "      <th>sentiment</th>\n",
       "      <th>Label</th>\n",
       "      <th>polarity</th>\n",
       "      <th>subjectivity</th>\n",
       "      <th>Sentiment_feeling</th>\n",
       "      <th>Sentiment_label</th>\n",
       "    </tr>\n",
       "  </thead>\n",
       "  <tbody>\n",
       "    <tr>\n",
       "      <th>35730</th>\n",
       "      <td>great actor an oscar nominee actress stunning ...</td>\n",
       "      <td>positive</td>\n",
       "      <td>1</td>\n",
       "      <td>0.364040</td>\n",
       "      <td>0.564116</td>\n",
       "      <td>POSITIVE</td>\n",
       "      <td>1.0</td>\n",
       "    </tr>\n",
       "    <tr>\n",
       "      <th>25028</th>\n",
       "      <td>I m a sucker for mobgangland movie so I rent t...</td>\n",
       "      <td>negative</td>\n",
       "      <td>-1</td>\n",
       "      <td>-0.092857</td>\n",
       "      <td>0.469048</td>\n",
       "      <td>NEUTRAL</td>\n",
       "      <td>NaN</td>\n",
       "    </tr>\n",
       "    <tr>\n",
       "      <th>35010</th>\n",
       "      <td>Chris Smiths American Movie be an insightful e...</td>\n",
       "      <td>positive</td>\n",
       "      <td>1</td>\n",
       "      <td>0.237391</td>\n",
       "      <td>0.366594</td>\n",
       "      <td>POSITIVE</td>\n",
       "      <td>1.0</td>\n",
       "    </tr>\n",
       "    <tr>\n",
       "      <th>10250</th>\n",
       "      <td>s comedy especially one with John Cusak be awe...</td>\n",
       "      <td>positive</td>\n",
       "      <td>1</td>\n",
       "      <td>0.060606</td>\n",
       "      <td>0.591667</td>\n",
       "      <td>NEUTRAL</td>\n",
       "      <td>1.0</td>\n",
       "    </tr>\n",
       "    <tr>\n",
       "      <th>13326</th>\n",
       "      <td>I first see this movie on MSTK and although I ...</td>\n",
       "      <td>negative</td>\n",
       "      <td>-1</td>\n",
       "      <td>0.089773</td>\n",
       "      <td>0.487626</td>\n",
       "      <td>NEUTRAL</td>\n",
       "      <td>NaN</td>\n",
       "    </tr>\n",
       "    <tr>\n",
       "      <th>...</th>\n",
       "      <td>...</td>\n",
       "      <td>...</td>\n",
       "      <td>...</td>\n",
       "      <td>...</td>\n",
       "      <td>...</td>\n",
       "      <td>...</td>\n",
       "      <td>...</td>\n",
       "    </tr>\n",
       "    <tr>\n",
       "      <th>8378</th>\n",
       "      <td>to some of us director Ernst Lubitsch adore fo...</td>\n",
       "      <td>negative</td>\n",
       "      <td>-1</td>\n",
       "      <td>0.086979</td>\n",
       "      <td>0.412500</td>\n",
       "      <td>NEUTRAL</td>\n",
       "      <td>NaN</td>\n",
       "    </tr>\n",
       "    <tr>\n",
       "      <th>15564</th>\n",
       "      <td>its really just terrible Quaid overact more th...</td>\n",
       "      <td>negative</td>\n",
       "      <td>-1</td>\n",
       "      <td>-0.074444</td>\n",
       "      <td>0.507222</td>\n",
       "      <td>NEUTRAL</td>\n",
       "      <td>NaN</td>\n",
       "    </tr>\n",
       "    <tr>\n",
       "      <th>38789</th>\n",
       "      <td>the violent and rebel twentyfive year old sail...</td>\n",
       "      <td>positive</td>\n",
       "      <td>1</td>\n",
       "      <td>0.160238</td>\n",
       "      <td>0.583425</td>\n",
       "      <td>POSITIVE</td>\n",
       "      <td>1.0</td>\n",
       "    </tr>\n",
       "    <tr>\n",
       "      <th>3480</th>\n",
       "      <td>as one who frequently go to the movie I have t...</td>\n",
       "      <td>positive</td>\n",
       "      <td>1</td>\n",
       "      <td>0.327473</td>\n",
       "      <td>0.522802</td>\n",
       "      <td>POSITIVE</td>\n",
       "      <td>1.0</td>\n",
       "    </tr>\n",
       "    <tr>\n",
       "      <th>22804</th>\n",
       "      <td>I just see this movie last night at a midnight...</td>\n",
       "      <td>negative</td>\n",
       "      <td>-1</td>\n",
       "      <td>-0.037665</td>\n",
       "      <td>0.533763</td>\n",
       "      <td>NEUTRAL</td>\n",
       "      <td>NaN</td>\n",
       "    </tr>\n",
       "  </tbody>\n",
       "</table>\n",
       "<p>20000 rows × 7 columns</p>\n",
       "</div>"
      ],
      "text/plain": [
       "                                                  review sentiment  Label  \\\n",
       "35730  great actor an oscar nominee actress stunning ...  positive      1   \n",
       "25028  I m a sucker for mobgangland movie so I rent t...  negative     -1   \n",
       "35010  Chris Smiths American Movie be an insightful e...  positive      1   \n",
       "10250  s comedy especially one with John Cusak be awe...  positive      1   \n",
       "13326  I first see this movie on MSTK and although I ...  negative     -1   \n",
       "...                                                  ...       ...    ...   \n",
       "8378   to some of us director Ernst Lubitsch adore fo...  negative     -1   \n",
       "15564  its really just terrible Quaid overact more th...  negative     -1   \n",
       "38789  the violent and rebel twentyfive year old sail...  positive      1   \n",
       "3480   as one who frequently go to the movie I have t...  positive      1   \n",
       "22804  I just see this movie last night at a midnight...  negative     -1   \n",
       "\n",
       "       polarity  subjectivity Sentiment_feeling  Sentiment_label  \n",
       "35730  0.364040      0.564116          POSITIVE              1.0  \n",
       "25028 -0.092857      0.469048           NEUTRAL              NaN  \n",
       "35010  0.237391      0.366594          POSITIVE              1.0  \n",
       "10250  0.060606      0.591667           NEUTRAL              1.0  \n",
       "13326  0.089773      0.487626           NEUTRAL              NaN  \n",
       "...         ...           ...               ...              ...  \n",
       "8378   0.086979      0.412500           NEUTRAL              NaN  \n",
       "15564 -0.074444      0.507222           NEUTRAL              NaN  \n",
       "38789  0.160238      0.583425          POSITIVE              1.0  \n",
       "3480   0.327473      0.522802          POSITIVE              1.0  \n",
       "22804 -0.037665      0.533763           NEUTRAL              NaN  \n",
       "\n",
       "[20000 rows x 7 columns]"
      ]
     },
     "execution_count": 57,
     "metadata": {},
     "output_type": "execute_result"
    }
   ],
   "source": [
    "result"
   ]
  },
  {
   "cell_type": "code",
   "execution_count": 58,
   "id": "55d6b9fd-bcd1-4435-b639-2dee1d1618c4",
   "metadata": {},
   "outputs": [
    {
     "data": {
      "text/plain": [
       "9488"
      ]
     },
     "execution_count": 58,
     "metadata": {},
     "output_type": "execute_result"
    }
   ],
   "source": [
    "(result[\"Sentiment_feeling\"] == \"POSITIVE\").sum()"
   ]
  },
  {
   "cell_type": "code",
   "execution_count": 59,
   "id": "ec5f73c8-a433-4c8f-a844-7224e9504bd1",
   "metadata": {},
   "outputs": [
    {
     "data": {
      "text/plain": [
       "8519"
      ]
     },
     "execution_count": 59,
     "metadata": {},
     "output_type": "execute_result"
    }
   ],
   "source": [
    "(result[\"Sentiment_feeling\"] == \"NEUTRAL\").sum()"
   ]
  },
  {
   "cell_type": "code",
   "execution_count": 60,
   "id": "25212fb6-d69c-48c4-850a-ea2b8bccde43",
   "metadata": {},
   "outputs": [
    {
     "data": {
      "text/plain": [
       "1993"
      ]
     },
     "execution_count": 60,
     "metadata": {},
     "output_type": "execute_result"
    }
   ],
   "source": [
    "(result[\"Sentiment_feeling\"] == \"NEGATIVE\").sum()"
   ]
  },
  {
   "cell_type": "markdown",
   "id": "3ac41eaa-3b89-4ab3-a627-ebda3060b44c",
   "metadata": {},
   "source": [
    "### Percentage of Negative, Positive and Neutral may be off, it totally depends on the thresholds you set. As of now, I have used 0.1 and -0.1 arbitrarily. For the application we require, the thresholds can be set by us by hit and trial."
   ]
  },
  {
   "cell_type": "code",
   "execution_count": 61,
   "id": "9e476dbe-771c-4461-afa8-51ff3e68fb2f",
   "metadata": {},
   "outputs": [
    {
     "name": "stdout",
     "output_type": "stream",
     "text": [
      "Negative percentage: 9.96%\n",
      "Neutral percentage: 42.59%\n",
      "Positive percentage: 47.44%\n"
     ]
    }
   ],
   "source": [
    "print(f\"Negative percentage: {(result['Sentiment_feeling'] == 'NEGATIVE').sum() / 20000:.2%}\")\n",
    "print(f\"Neutral percentage: {(result['Sentiment_feeling'] == 'NEUTRAL').sum() / 20000:.2%}\")\n",
    "print(f\"Positive percentage: {(result['Sentiment_feeling'] == 'POSITIVE').sum() / 20000:.2%}\")\n"
   ]
  },
  {
   "cell_type": "code",
   "execution_count": 62,
   "id": "76674fa8-a906-4b27-b909-15db6cb718c1",
   "metadata": {},
   "outputs": [],
   "source": [
    "result.to_csv(\"preprocessed_IMDB\", index = False)"
   ]
  }
 ],
 "metadata": {
  "kernelspec": {
   "display_name": "Python 3 (ipykernel)",
   "language": "python",
   "name": "python3"
  },
  "language_info": {
   "codemirror_mode": {
    "name": "ipython",
    "version": 3
   },
   "file_extension": ".py",
   "mimetype": "text/x-python",
   "name": "python",
   "nbconvert_exporter": "python",
   "pygments_lexer": "ipython3",
   "version": "3.11.9"
  }
 },
 "nbformat": 4,
 "nbformat_minor": 5
}
